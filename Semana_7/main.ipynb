{
 "cells": [
  {
   "cell_type": "markdown",
   "metadata": {},
   "source": [
    "# Desafio 6\n",
    "\n",
    "Neste desafio, vamos praticar _feature engineering_, um dos processos mais importantes e trabalhosos de ML. Utilizaremos o _data set_ [Countries of the world](https://www.kaggle.com/fernandol/countries-of-the-world), que contém dados sobre os 227 países do mundo com informações sobre tamanho da população, área, imigração e setores de produção.\n",
    "\n",
    "> Obs.: Por favor, não modifique o nome das funções de resposta."
   ]
  },
  {
   "cell_type": "markdown",
   "metadata": {},
   "source": [
    "## _Setup_ geral"
   ]
  },
  {
   "cell_type": "code",
   "execution_count": 226,
   "metadata": {},
   "outputs": [],
   "source": [
    "import pandas as pd\n",
    "import numpy as np\n",
    "import seaborn as sns\n",
    "import sklearn as sk\n",
    "import matplotlib.pyplot as plt\n",
    "from sklearn.preprocessing import KBinsDiscretizer\n",
    "from sklearn.preprocessing import OneHotEncoder \n",
    "from sklearn.impute import SimpleImputer\n",
    "from sklearn.pipeline import Pipeline\n",
    "from sklearn.preprocessing import StandardScaler\n",
    "from sklearn.pipeline import Pipeline\n",
    "from sklearn.datasets import fetch_20newsgroups\n",
    "from sklearn.feature_extraction.text import CountVectorizer\n",
    "from sklearn.feature_extraction.text import TfidfVectorizer"
   ]
  },
  {
   "cell_type": "code",
   "execution_count": 2,
   "metadata": {},
   "outputs": [],
   "source": [
    "from IPython.core.pylabtools import figsize\n",
    "\n",
    "\n",
    "figsize(12, 8)\n",
    "\n",
    "sns.set()"
   ]
  },
  {
   "cell_type": "code",
   "execution_count": 188,
   "metadata": {
    "scrolled": false
   },
   "outputs": [],
   "source": [
    "countries = pd.read_csv(\"countries.csv\")"
   ]
  },
  {
   "cell_type": "code",
   "execution_count": 189,
   "metadata": {},
   "outputs": [
    {
     "output_type": "execute_result",
     "data": {
      "text/plain": "           Country                               Region  Population     Area  \\\n0     Afghanistan         ASIA (EX. NEAR EAST)             31056997   647500   \n1         Albania   EASTERN EUROPE                          3581655    28748   \n2         Algeria   NORTHERN AFRICA                        32930091  2381740   \n3  American Samoa   OCEANIA                                   57794      199   \n4         Andorra   WESTERN EUROPE                            71201      468   \n\n  Pop_density Coastline_ratio Net_migration Infant_mortality      GDP  \\\n0        48,0            0,00         23,06           163,07    700.0   \n1       124,6            1,26         -4,93            21,52   4500.0   \n2        13,8            0,04         -0,39               31   6000.0   \n3       290,4           58,29        -20,71             9,27   8000.0   \n4       152,1            0,00           6,6             4,05  19000.0   \n\n  Literacy Phones_per_1000 Arable Crops  Other Climate Birthrate Deathrate  \\\n0     36,0             3,2  12,13  0,22  87,65       1      46,6     20,34   \n1     86,5            71,2  21,09  4,42  74,49       3     15,11      5,22   \n2     70,0            78,1   3,22  0,25  96,53       1     17,14      4,61   \n3     97,0           259,5     10    15     75       2     22,46      3,27   \n4    100,0           497,2   2,22     0  97,78       3      8,71      6,25   \n\n  Agriculture Industry Service  \n0        0,38     0,24    0,38  \n1       0,232    0,188   0,579  \n2       0,101      0,6   0,298  \n3         NaN      NaN     NaN  \n4         NaN      NaN     NaN  ",
      "text/html": "<div>\n<style scoped>\n    .dataframe tbody tr th:only-of-type {\n        vertical-align: middle;\n    }\n\n    .dataframe tbody tr th {\n        vertical-align: top;\n    }\n\n    .dataframe thead th {\n        text-align: right;\n    }\n</style>\n<table border=\"1\" class=\"dataframe\">\n  <thead>\n    <tr style=\"text-align: right;\">\n      <th></th>\n      <th>Country</th>\n      <th>Region</th>\n      <th>Population</th>\n      <th>Area</th>\n      <th>Pop_density</th>\n      <th>Coastline_ratio</th>\n      <th>Net_migration</th>\n      <th>Infant_mortality</th>\n      <th>GDP</th>\n      <th>Literacy</th>\n      <th>Phones_per_1000</th>\n      <th>Arable</th>\n      <th>Crops</th>\n      <th>Other</th>\n      <th>Climate</th>\n      <th>Birthrate</th>\n      <th>Deathrate</th>\n      <th>Agriculture</th>\n      <th>Industry</th>\n      <th>Service</th>\n    </tr>\n  </thead>\n  <tbody>\n    <tr>\n      <th>0</th>\n      <td>Afghanistan</td>\n      <td>ASIA (EX. NEAR EAST)</td>\n      <td>31056997</td>\n      <td>647500</td>\n      <td>48,0</td>\n      <td>0,00</td>\n      <td>23,06</td>\n      <td>163,07</td>\n      <td>700.0</td>\n      <td>36,0</td>\n      <td>3,2</td>\n      <td>12,13</td>\n      <td>0,22</td>\n      <td>87,65</td>\n      <td>1</td>\n      <td>46,6</td>\n      <td>20,34</td>\n      <td>0,38</td>\n      <td>0,24</td>\n      <td>0,38</td>\n    </tr>\n    <tr>\n      <th>1</th>\n      <td>Albania</td>\n      <td>EASTERN EUROPE</td>\n      <td>3581655</td>\n      <td>28748</td>\n      <td>124,6</td>\n      <td>1,26</td>\n      <td>-4,93</td>\n      <td>21,52</td>\n      <td>4500.0</td>\n      <td>86,5</td>\n      <td>71,2</td>\n      <td>21,09</td>\n      <td>4,42</td>\n      <td>74,49</td>\n      <td>3</td>\n      <td>15,11</td>\n      <td>5,22</td>\n      <td>0,232</td>\n      <td>0,188</td>\n      <td>0,579</td>\n    </tr>\n    <tr>\n      <th>2</th>\n      <td>Algeria</td>\n      <td>NORTHERN AFRICA</td>\n      <td>32930091</td>\n      <td>2381740</td>\n      <td>13,8</td>\n      <td>0,04</td>\n      <td>-0,39</td>\n      <td>31</td>\n      <td>6000.0</td>\n      <td>70,0</td>\n      <td>78,1</td>\n      <td>3,22</td>\n      <td>0,25</td>\n      <td>96,53</td>\n      <td>1</td>\n      <td>17,14</td>\n      <td>4,61</td>\n      <td>0,101</td>\n      <td>0,6</td>\n      <td>0,298</td>\n    </tr>\n    <tr>\n      <th>3</th>\n      <td>American Samoa</td>\n      <td>OCEANIA</td>\n      <td>57794</td>\n      <td>199</td>\n      <td>290,4</td>\n      <td>58,29</td>\n      <td>-20,71</td>\n      <td>9,27</td>\n      <td>8000.0</td>\n      <td>97,0</td>\n      <td>259,5</td>\n      <td>10</td>\n      <td>15</td>\n      <td>75</td>\n      <td>2</td>\n      <td>22,46</td>\n      <td>3,27</td>\n      <td>NaN</td>\n      <td>NaN</td>\n      <td>NaN</td>\n    </tr>\n    <tr>\n      <th>4</th>\n      <td>Andorra</td>\n      <td>WESTERN EUROPE</td>\n      <td>71201</td>\n      <td>468</td>\n      <td>152,1</td>\n      <td>0,00</td>\n      <td>6,6</td>\n      <td>4,05</td>\n      <td>19000.0</td>\n      <td>100,0</td>\n      <td>497,2</td>\n      <td>2,22</td>\n      <td>0</td>\n      <td>97,78</td>\n      <td>3</td>\n      <td>8,71</td>\n      <td>6,25</td>\n      <td>NaN</td>\n      <td>NaN</td>\n      <td>NaN</td>\n    </tr>\n  </tbody>\n</table>\n</div>"
     },
     "metadata": {},
     "execution_count": 189
    }
   ],
   "source": [
    "new_column_names = [\n",
    "    \"Country\", \"Region\", \"Population\", \"Area\", \"Pop_density\", \"Coastline_ratio\",\n",
    "    \"Net_migration\", \"Infant_mortality\", \"GDP\", \"Literacy\", \"Phones_per_1000\",\n",
    "    \"Arable\", \"Crops\", \"Other\", \"Climate\", \"Birthrate\", \"Deathrate\", \"Agriculture\",\n",
    "    \"Industry\", \"Service\"\n",
    "]\n",
    "\n",
    "countries.columns = new_column_names\n",
    "\n",
    "countries.head(5)"
   ]
  },
  {
   "cell_type": "markdown",
   "metadata": {},
   "source": [
    "## Observações\n",
    "\n",
    "Esse _data set_ ainda precisa de alguns ajustes iniciais. Primeiro, note que as variáveis numéricas estão usando vírgula como separador decimal e estão codificadas como strings. Corrija isso antes de continuar: transforme essas variáveis em numéricas adequadamente.\n",
    "\n",
    "Além disso, as variáveis `Country` e `Region` possuem espaços a mais no começo e no final da string. Você pode utilizar o método `str.strip()` para remover esses espaços."
   ]
  },
  {
   "cell_type": "markdown",
   "metadata": {},
   "source": [
    "## Inicia sua análise a partir daqui"
   ]
  },
  {
   "cell_type": "code",
   "execution_count": 208,
   "metadata": {},
   "outputs": [
    {
     "output_type": "execute_result",
     "data": {
      "text/plain": "Index(['Country', 'Region', 'Population', 'Area', 'Pop_density',\n       'Coastline_ratio', 'Net_migration', 'Infant_mortality', 'GDP',\n       'Literacy', 'Phones_per_1000', 'Arable', 'Crops', 'Other', 'Climate',\n       'Birthrate', 'Deathrate', 'Agriculture', 'Industry', 'Service'],\n      dtype='object')"
     },
     "metadata": {},
     "execution_count": 208
    }
   ],
   "source": [
    "# Sua análise começa aqui.\n",
    "countries.columns"
   ]
  },
  {
   "cell_type": "code",
   "execution_count": 210,
   "metadata": {},
   "outputs": [],
   "source": [
    "variaveis_numericas = [\"Pop_density\",\"Coastline_ratio\",\"Net_migration\",\"Infant_mortality\",\"Literacy\",\n",
    "                           \"Phones_per_1000\",\"Arable\",\"Crops\",\"Other\",\"Climate\",\"Birthrate\",\"Deathrate\",\n",
    "                           \"Agriculture\",\"Agriculture\",\"Industry\",\"Service\"]"
   ]
  },
  {
   "cell_type": "code",
   "execution_count": 212,
   "metadata": {},
   "outputs": [],
   "source": [
    "countries[variaveis_numericas] = countries[variaveis_numericas].replace(',', '.', regex=True)"
   ]
  },
  {
   "cell_type": "code",
   "execution_count": 214,
   "metadata": {},
   "outputs": [],
   "source": [
    "countries[variaveis_numericas] = countries[variaveis_numericas].astype(float)"
   ]
  },
  {
   "cell_type": "code",
   "execution_count": 215,
   "metadata": {},
   "outputs": [
    {
     "output_type": "execute_result",
     "data": {
      "text/plain": "Country              object\nRegion               object\nPopulation            int64\nArea                  int64\nPop_density         float64\nCoastline_ratio     float64\nNet_migration       float64\nInfant_mortality    float64\nGDP                 float64\nLiteracy            float64\nPhones_per_1000     float64\nArable              float64\nCrops               float64\nOther               float64\nClimate             float64\nBirthrate           float64\nDeathrate           float64\nAgriculture         float64\nIndustry            float64\nService             float64\ndtype: object"
     },
     "metadata": {},
     "execution_count": 215
    }
   ],
   "source": [
    "countries.dtypes"
   ]
  },
  {
   "cell_type": "markdown",
   "metadata": {},
   "source": [
    "## Questão 1\n",
    "\n",
    "Quais são as regiões (variável `Region`) presentes no _data set_? Retorne uma lista com as regiões únicas do _data set_ com os espaços à frente e atrás da string removidos (mas mantenha pontuação: ponto, hífen etc) e ordenadas em ordem alfabética."
   ]
  },
  {
   "cell_type": "code",
   "execution_count": 70,
   "metadata": {},
   "outputs": [],
   "source": [
    "def q1():\n",
    "    lstRegion = list(countries['Region'].unique())\n",
    "    stripList = list(map(lambda x: x.strip(), lstRegion))\n",
    "    stripList.sort()\n",
    "    return stripList\n",
    "    pass"
   ]
  },
  {
   "cell_type": "code",
   "execution_count": 71,
   "metadata": {
    "tags": []
   },
   "outputs": [
    {
     "output_type": "execute_result",
     "data": {
      "text/plain": "['ASIA (EX. NEAR EAST)',\n 'BALTICS',\n 'C.W. OF IND. STATES',\n 'EASTERN EUROPE',\n 'LATIN AMER. & CARIB',\n 'NEAR EAST',\n 'NORTHERN AFRICA',\n 'NORTHERN AMERICA',\n 'OCEANIA',\n 'SUB-SAHARAN AFRICA',\n 'WESTERN EUROPE']"
     },
     "metadata": {},
     "execution_count": 71
    }
   ],
   "source": [
    "q1()"
   ]
  },
  {
   "cell_type": "markdown",
   "metadata": {},
   "source": [
    "## Questão 2\n",
    "\n",
    "Discretizando a variável `Pop_density` em 10 intervalos com `KBinsDiscretizer`, seguindo o encode `ordinal` e estratégia `quantile`, quantos países se encontram acima do 90º percentil? Responda como um único escalar inteiro.\n",
    "\n",
    "\n",
    "Aqui, você poderia apenas comparar que valores de \"pop_density_discretizer\" são iguais a 9. O proecesso de \"binning\" ou \"discretização\" coloca cada uma das observações em um \"balde\". Como você separou suas visualizações em 10 bins (ou baldes, para seguir o exemplo), bastava saber quantos estão no último balde pra saber quantos estão no percentil 90."
   ]
  },
  {
   "cell_type": "code",
   "execution_count": 155,
   "metadata": {},
   "outputs": [],
   "source": [
    "def q2():\n",
    "    discretizer = KBinsDiscretizer(n_bins=10, encode='ordinal', strategy='quantile') \n",
    "    discretizer.fit(countries['Pop_density'].values.reshape(-1, 1))\n",
    "    popT = discretizer.transform(countries['Pop_density'].values.reshape(-1, 1))\n",
    "    return int(sum(popT == 9)[0])\n",
    "    pass"
   ]
  },
  {
   "cell_type": "code",
   "execution_count": 156,
   "metadata": {},
   "outputs": [
    {
     "output_type": "execute_result",
     "data": {
      "text/plain": "23"
     },
     "metadata": {},
     "execution_count": 156
    }
   ],
   "source": [
    "q2()"
   ]
  },
  {
   "cell_type": "markdown",
   "metadata": {},
   "source": [
    "# Questão 3\n",
    "\n",
    "Se codificarmos as variáveis `Region` e `Climate` usando _one-hot encoding_, quantos novos atributos seriam criados? Responda como um único escalar."
   ]
  },
  {
   "cell_type": "code",
   "execution_count": 216,
   "metadata": {},
   "outputs": [],
   "source": [
    "def q3():\n",
    "    one_hot_encoder = OneHotEncoder(sparse=False, dtype=np.int)\n",
    "    countries[\"Climate\"] = countries[['Climate']].fillna(countries['Climate'].mean())\n",
    "    region_climate_encoded = one_hot_encoder.fit_transform(countries[[\"Region\",\"Climate\"]])\n",
    "    return int(region_climate_encoded.shape[1])\n",
    "    pass"
   ]
  },
  {
   "cell_type": "code",
   "execution_count": 217,
   "metadata": {},
   "outputs": [
    {
     "output_type": "execute_result",
     "data": {
      "text/plain": "18"
     },
     "metadata": {},
     "execution_count": 217
    }
   ],
   "source": [
    "q3()"
   ]
  },
  {
   "cell_type": "markdown",
   "metadata": {},
   "source": [
    "## Questão 4\n",
    "\n",
    "Aplique o seguinte _pipeline_:\n",
    "\n",
    "1. Preencha as variáveis do tipo `int64` e `float64` com suas respectivas medianas.\n",
    "2. Padronize essas variáveis.\n",
    "\n",
    "Após aplicado o _pipeline_ descrito acima aos dados (somente nas variáveis dos tipos especificados), aplique o mesmo _pipeline_ (ou `ColumnTransformer`) ao dado abaixo. Qual o valor da variável `Arable` após o _pipeline_? Responda como um único float arredondado para três casas decimais."
   ]
  },
  {
   "cell_type": "code",
   "execution_count": 196,
   "metadata": {},
   "outputs": [],
   "source": [
    "test_country = [\n",
    "    'Test Country', 'NEAR EAST', -0.19032480757326514,\n",
    "    -0.3232636124824411, -0.04421734470810142, -0.27528113360605316,\n",
    "    0.13255850810281325, -0.8054845935643491, 1.0119784924248225,\n",
    "    0.6189182532646624, 1.0074863283776458, 0.20239896852403538,\n",
    "    -0.043678728558593366, -0.13929748680369286, 1.3163604645710438,\n",
    "    -0.3699637766938669, -0.6149300604558857, -0.854369594993175,\n",
    "    0.263445277972641, 0.5712416961268142\n",
    "]"
   ]
  },
  {
   "cell_type": "code",
   "execution_count": 219,
   "metadata": {},
   "outputs": [],
   "source": [
    "def q4():\n",
    "    # Retorne aqui o resultado da questão 4.\\n\",\n",
    "    cols = countries.columns[2:len(countries.columns)]\n",
    "    num_pipeline = Pipeline(steps = [('imputer', SimpleImputer(strategy = 'median')),('scaler', StandardScaler())])\n",
    "    num_pipeline.fit(countries[cols])\n",
    "    pipeline = num_pipeline.transform([test_country[2:]])\n",
    "    return float(pipeline[0][9].round(3))\n",
    "    pass"
   ]
  },
  {
   "cell_type": "code",
   "execution_count": 220,
   "metadata": {},
   "outputs": [
    {
     "output_type": "execute_result",
     "data": {
      "text/plain": "-1.047"
     },
     "metadata": {},
     "execution_count": 220
    }
   ],
   "source": [
    "q4()"
   ]
  },
  {
   "cell_type": "markdown",
   "metadata": {},
   "source": [
    "## Questão 5\n",
    "\n",
    "Descubra o número de _outliers_ da variável `Net_migration` segundo o método do _boxplot_, ou seja, usando a lógica:\n",
    "\n",
    "$$x \\notin [Q1 - 1.5 \\times \\text{IQR}, Q3 + 1.5 \\times \\text{IQR}] \\Rightarrow x \\text{ é outlier}$$\n",
    "\n",
    "que se encontram no grupo inferior e no grupo superior.\n",
    "\n",
    "Você deveria remover da análise as observações consideradas _outliers_ segundo esse método? Responda como uma tupla de três elementos `(outliers_abaixo, outliers_acima, removeria?)` ((int, int, bool))."
   ]
  },
  {
   "cell_type": "code",
   "execution_count": 236,
   "metadata": {},
   "outputs": [],
   "source": [
    "def q5():\n",
    "    q1 = countries['Net_migration'].quantile(0.25)\n",
    "    q3 = countries['Net_migration'].quantile(0.75)\n",
    "    iqr = q3 - q1\n",
    "    outliers_abaixo = (countries['Net_migration'] < (q1 - 1.5 * iqr)).sum()\n",
    "    outliers_acima =  (countries['Net_migration'] > q3 + 1.5 * iqr).sum()\n",
    "    return int(outliers_abaixo),int(outliers_acima),bool(False)\n",
    "    pass"
   ]
  },
  {
   "cell_type": "code",
   "execution_count": 237,
   "metadata": {},
   "outputs": [
    {
     "output_type": "execute_result",
     "data": {
      "text/plain": "(24, 26, False)"
     },
     "metadata": {},
     "execution_count": 237
    }
   ],
   "source": [
    "q5()"
   ]
  },
  {
   "cell_type": "markdown",
   "metadata": {},
   "source": [
    "## Questão 6\n",
    "Para as questões 6 e 7 utilize a biblioteca `fetch_20newsgroups` de datasets de test do `sklearn`\n",
    "\n",
    "Considere carregar as seguintes categorias e o dataset `newsgroups`:\n",
    "\n",
    "```\n",
    "categories = ['sci.electronics', 'comp.graphics', 'rec.motorcycles']\n",
    "newsgroup = fetch_20newsgroups(subset=\"train\", categories=categories, shuffle=True, random_state=42)\n",
    "```\n",
    "\n",
    "\n",
    "Aplique `CountVectorizer` ao _data set_ `newsgroups` e descubra o número de vezes que a palavra _phone_ aparece no corpus. Responda como um único escalar."
   ]
  },
  {
   "cell_type": "code",
   "execution_count": 230,
   "metadata": {},
   "outputs": [],
   "source": [
    "categories = ['sci.electronics', 'comp.graphics', 'rec.motorcycles']\n",
    "newsgroup = fetch_20newsgroups(subset=\"train\", categories=categories, shuffle=True, random_state=42)"
   ]
  },
  {
   "cell_type": "code",
   "execution_count": 231,
   "metadata": {},
   "outputs": [],
   "source": [
    "def q6():\n",
    "    # Retorne aqui o resultado da questão 4.\n",
    "    count_vectorizer = CountVectorizer()\n",
    "    newsgroups_counts = count_vectorizer.fit_transform(newsgroup.data)\n",
    "    count = count_vectorizer.get_feature_names().index('phone')\n",
    "    return int(newsgroups_counts[:, count].sum())\n",
    "    pass"
   ]
  },
  {
   "cell_type": "code",
   "execution_count": 232,
   "metadata": {},
   "outputs": [
    {
     "output_type": "execute_result",
     "data": {
      "text/plain": "213"
     },
     "metadata": {},
     "execution_count": 232
    }
   ],
   "source": [
    "q6()"
   ]
  },
  {
   "cell_type": "markdown",
   "metadata": {},
   "source": [
    "## Questão 7\n",
    "\n",
    "Aplique `TfidfVectorizer` ao _data set_ `newsgroups` e descubra o TF-IDF da palavra _phone_. Responda como um único escalar arredondado para três casas decimais."
   ]
  },
  {
   "cell_type": "code",
   "execution_count": 233,
   "metadata": {},
   "outputs": [],
   "source": [
    "def q7():\n",
    "    # Retorne aqui o resultado da questão 4.\n",
    "    tfidf_vectorizer = TfidfVectorizer()\n",
    "    tfidf_vectorizer.fit(newsgroup.data)\n",
    "    newsgroups_tfidf_vectorized = tfidf_vectorizer.transform(newsgroup.data)\n",
    "    count = tfidf_vectorizer.get_feature_names().index('phone')\n",
    "    return float(newsgroups_tfidf_vectorized[:, count].sum().round(3))\n",
    "    pass"
   ]
  },
  {
   "cell_type": "code",
   "execution_count": 234,
   "metadata": {},
   "outputs": [
    {
     "output_type": "execute_result",
     "data": {
      "text/plain": "8.888"
     },
     "metadata": {},
     "execution_count": 234
    }
   ],
   "source": [
    "q7()"
   ]
  },
  {
   "cell_type": "code",
   "execution_count": null,
   "metadata": {},
   "outputs": [],
   "source": []
  }
 ],
 "metadata": {
  "kernelspec": {
   "display_name": "Python 3",
   "language": "python",
   "name": "python3"
  },
  "language_info": {
   "codemirror_mode": {
    "name": "ipython",
    "version": 3
   },
   "file_extension": ".py",
   "mimetype": "text/x-python",
   "name": "python",
   "nbconvert_exporter": "python",
   "pygments_lexer": "ipython3",
   "version": "3.7.3"
  }
 },
 "nbformat": 4,
 "nbformat_minor": 2
}